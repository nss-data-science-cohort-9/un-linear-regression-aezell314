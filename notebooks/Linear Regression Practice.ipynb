{
 "cells": [
  {
   "cell_type": "markdown",
   "id": "caff2b5b-2ce2-40e2-a25c-3f1f336e80f5",
   "metadata": {},
   "source": [
    "## Linear Regression Practice"
   ]
  },
  {
   "cell_type": "code",
   "execution_count": 1,
   "id": "06fb8a12-bb23-4286-b5c3-6d3e4ffd791b",
   "metadata": {},
   "outputs": [],
   "source": [
    "# Importing libraries and data\n",
    "import pandas as pd\n",
    "import numpy as np\n",
    "import matplotlib.pyplot as plt\n",
    "import statsmodels.formula.api as smf\n",
    "gdp_le=pd.read_csv('../data/gdp_le.csv')"
   ]
  },
  {
   "cell_type": "markdown",
   "id": "9c215ab0-26a9-4980-bd61-4f99351bd44f",
   "metadata": {
    "jp-MarkdownHeadingCollapsed": true
   },
   "source": [
    "##### Question 1"
   ]
  },
  {
   "cell_type": "markdown",
   "id": "c2881c72-14ac-471f-9797-111ac35dcb42",
   "metadata": {},
   "source": [
    "Start by fitting a linear regression model with target being life expectancy and predictor variable year.  \n",
    "a. What coefficients do you get? Interpret the meaning of these coefficents.  \n",
    "b. Using just the year makes the intercept term difficult to interpret. Create a new model, but this time use years since 1990 as your predictor variable. Hint: You can the patsy identity function to modify your predictors in your model formula. Inspect the new coefficients and interpret the meaning of them. Are they statistically significant?  \n",
    "c. Compare the actual mean life expectancy per year to the model's estimate. How well does it do?  \n",
    "d. Plot the actual values against your model's estimates for the mean life expectancy.  \n",
    "e. Inspect the R-squared value for the model. does it make sense, given the plot?"
   ]
  },
  {
   "cell_type": "code",
   "execution_count": 2,
   "id": "d0218c58-5955-4e87-9737-89c7273205ee",
   "metadata": {},
   "outputs": [
    {
     "data": {
      "text/plain": [
       "Intercept   -468.128668\n",
       "Year           0.267716\n",
       "dtype: float64"
      ]
     },
     "execution_count": 2,
     "metadata": {},
     "output_type": "execute_result"
    }
   ],
   "source": [
    "# Aggregate the actual data to find average life expectancy per year\n",
    "gdp_le_agg=gdp_le.groupby('Year').agg({'Life_Expectancy':'mean'}).reset_index()\n",
    "\n",
    "# Fitting an ordinary least squares model to the data\n",
    "lr_le_year = smf.ols(\"Life_Expectancy ~ Year\", data=gdp_le_agg).fit()\n",
    "lr_le_year.params"
   ]
  },
  {
   "cell_type": "markdown",
   "id": "f9d2febd-cdf8-4919-ab7c-1b27097e2abb",
   "metadata": {},
   "source": [
    "*Based on the coefficients of the least squares regression model, we'd expect to see average global life expectancy rise by about 0.27 years every year. The intercept of -468.14 doesn't have a meaning in the context of our model, since (a) life expectancy cannot be a negative number, and (b) our observations start in 1990, which is very far away from the year 0, so we would want to use caution when extrapolating that far.*"
   ]
  },
  {
   "cell_type": "code",
   "execution_count": 3,
   "id": "67db5dea-f633-4d72-b99d-d9a6c742f60f",
   "metadata": {},
   "outputs": [
    {
     "data": {
      "text/plain": [
       "Intercept         64.626339\n",
       "I(Year - 1990)     0.267716\n",
       "dtype: float64"
      ]
     },
     "execution_count": 3,
     "metadata": {},
     "output_type": "execute_result"
    }
   ],
   "source": [
    "# Adjusting predictor variable to be 'years since 1990', instead of just 'year'\n",
    "lr_le_year_adjusted = smf.ols(\"Life_Expectancy ~ I(Year-1990)\", data=gdp_le_agg).fit()\n",
    "lr_le_year_adjusted.params"
   ]
  },
  {
   "cell_type": "markdown",
   "id": "86103717-dc8d-4b09-9a52-06fad7dcac8a",
   "metadata": {},
   "source": [
    "*By adjusting the predictor variable to be 'years since 1990', we get a y-intercept that has real-world meaning. We can see that the predicted average life expectancy in the year 1990 is 64.6 years.*"
   ]
  },
  {
   "cell_type": "code",
   "execution_count": 4,
   "id": "6ffd64f2-217b-4311-9c64-fa1417bef6e6",
   "metadata": {},
   "outputs": [
    {
     "data": {
      "text/html": [
       "<table class=\"simpletable\">\n",
       "<caption>OLS Regression Results</caption>\n",
       "<tr>\n",
       "  <th>Dep. Variable:</th>     <td>Life_Expectancy</td> <th>  R-squared:         </th> <td>   0.973</td>\n",
       "</tr>\n",
       "<tr>\n",
       "  <th>Model:</th>                   <td>OLS</td>       <th>  Adj. R-squared:    </th> <td>   0.972</td>\n",
       "</tr>\n",
       "<tr>\n",
       "  <th>Method:</th>             <td>Least Squares</td>  <th>  F-statistic:       </th> <td>   1130.</td>\n",
       "</tr>\n",
       "<tr>\n",
       "  <th>Date:</th>             <td>Sat, 25 Oct 2025</td> <th>  Prob (F-statistic):</th> <td>5.88e-26</td>\n",
       "</tr>\n",
       "<tr>\n",
       "  <th>Time:</th>                 <td>09:02:40</td>     <th>  Log-Likelihood:    </th> <td> -18.371</td>\n",
       "</tr>\n",
       "<tr>\n",
       "  <th>No. Observations:</th>      <td>    33</td>      <th>  AIC:               </th> <td>   40.74</td>\n",
       "</tr>\n",
       "<tr>\n",
       "  <th>Df Residuals:</th>          <td>    31</td>      <th>  BIC:               </th> <td>   43.73</td>\n",
       "</tr>\n",
       "<tr>\n",
       "  <th>Df Model:</th>              <td>     1</td>      <th>                     </th>     <td> </td>   \n",
       "</tr>\n",
       "<tr>\n",
       "  <th>Covariance Type:</th>      <td>nonrobust</td>    <th>                     </th>     <td> </td>   \n",
       "</tr>\n",
       "</table>\n",
       "<table class=\"simpletable\">\n",
       "<tr>\n",
       "         <td></td>           <th>coef</th>     <th>std err</th>      <th>t</th>      <th>P>|t|</th>  <th>[0.025</th>    <th>0.975]</th>  \n",
       "</tr>\n",
       "<tr>\n",
       "  <th>Intercept</th>      <td>   64.6263</td> <td>    0.148</td> <td>  435.844</td> <td> 0.000</td> <td>   64.324</td> <td>   64.929</td>\n",
       "</tr>\n",
       "<tr>\n",
       "  <th>I(Year - 1990)</th> <td>    0.2677</td> <td>    0.008</td> <td>   33.616</td> <td> 0.000</td> <td>    0.251</td> <td>    0.284</td>\n",
       "</tr>\n",
       "</table>\n",
       "<table class=\"simpletable\">\n",
       "<tr>\n",
       "  <th>Omnibus:</th>       <td>15.367</td> <th>  Durbin-Watson:     </th> <td>   0.345</td>\n",
       "</tr>\n",
       "<tr>\n",
       "  <th>Prob(Omnibus):</th> <td> 0.000</td> <th>  Jarque-Bera (JB):  </th> <td>  17.622</td>\n",
       "</tr>\n",
       "<tr>\n",
       "  <th>Skew:</th>          <td>-1.337</td> <th>  Prob(JB):          </th> <td>0.000149</td>\n",
       "</tr>\n",
       "<tr>\n",
       "  <th>Kurtosis:</th>      <td> 5.380</td> <th>  Cond. No.          </th> <td>    36.5</td>\n",
       "</tr>\n",
       "</table><br/><br/>Notes:<br/>[1] Standard Errors assume that the covariance matrix of the errors is correctly specified."
      ],
      "text/latex": [
       "\\begin{center}\n",
       "\\begin{tabular}{lclc}\n",
       "\\toprule\n",
       "\\textbf{Dep. Variable:}    & Life\\_Expectancy & \\textbf{  R-squared:         } &     0.973   \\\\\n",
       "\\textbf{Model:}            &       OLS        & \\textbf{  Adj. R-squared:    } &     0.972   \\\\\n",
       "\\textbf{Method:}           &  Least Squares   & \\textbf{  F-statistic:       } &     1130.   \\\\\n",
       "\\textbf{Date:}             & Sat, 25 Oct 2025 & \\textbf{  Prob (F-statistic):} &  5.88e-26   \\\\\n",
       "\\textbf{Time:}             &     09:02:40     & \\textbf{  Log-Likelihood:    } &   -18.371   \\\\\n",
       "\\textbf{No. Observations:} &          33      & \\textbf{  AIC:               } &     40.74   \\\\\n",
       "\\textbf{Df Residuals:}     &          31      & \\textbf{  BIC:               } &     43.73   \\\\\n",
       "\\textbf{Df Model:}         &           1      & \\textbf{                     } &             \\\\\n",
       "\\textbf{Covariance Type:}  &    nonrobust     & \\textbf{                     } &             \\\\\n",
       "\\bottomrule\n",
       "\\end{tabular}\n",
       "\\begin{tabular}{lcccccc}\n",
       "                        & \\textbf{coef} & \\textbf{std err} & \\textbf{t} & \\textbf{P$> |$t$|$} & \\textbf{[0.025} & \\textbf{0.975]}  \\\\\n",
       "\\midrule\n",
       "\\textbf{Intercept}      &      64.6263  &        0.148     &   435.844  &         0.000        &       64.324    &       64.929     \\\\\n",
       "\\textbf{I(Year - 1990)} &       0.2677  &        0.008     &    33.616  &         0.000        &        0.251    &        0.284     \\\\\n",
       "\\bottomrule\n",
       "\\end{tabular}\n",
       "\\begin{tabular}{lclc}\n",
       "\\textbf{Omnibus:}       & 15.367 & \\textbf{  Durbin-Watson:     } &    0.345  \\\\\n",
       "\\textbf{Prob(Omnibus):} &  0.000 & \\textbf{  Jarque-Bera (JB):  } &   17.622  \\\\\n",
       "\\textbf{Skew:}          & -1.337 & \\textbf{  Prob(JB):          } & 0.000149  \\\\\n",
       "\\textbf{Kurtosis:}      &  5.380 & \\textbf{  Cond. No.          } &     36.5  \\\\\n",
       "\\bottomrule\n",
       "\\end{tabular}\n",
       "%\\caption{OLS Regression Results}\n",
       "\\end{center}\n",
       "\n",
       "Notes: \\newline\n",
       " [1] Standard Errors assume that the covariance matrix of the errors is correctly specified."
      ],
      "text/plain": [
       "<class 'statsmodels.iolib.summary.Summary'>\n",
       "\"\"\"\n",
       "                            OLS Regression Results                            \n",
       "==============================================================================\n",
       "Dep. Variable:        Life_Expectancy   R-squared:                       0.973\n",
       "Model:                            OLS   Adj. R-squared:                  0.972\n",
       "Method:                 Least Squares   F-statistic:                     1130.\n",
       "Date:                Sat, 25 Oct 2025   Prob (F-statistic):           5.88e-26\n",
       "Time:                        09:02:40   Log-Likelihood:                -18.371\n",
       "No. Observations:                  33   AIC:                             40.74\n",
       "Df Residuals:                      31   BIC:                             43.73\n",
       "Df Model:                           1                                         \n",
       "Covariance Type:            nonrobust                                         \n",
       "==================================================================================\n",
       "                     coef    std err          t      P>|t|      [0.025      0.975]\n",
       "----------------------------------------------------------------------------------\n",
       "Intercept         64.6263      0.148    435.844      0.000      64.324      64.929\n",
       "I(Year - 1990)     0.2677      0.008     33.616      0.000       0.251       0.284\n",
       "==============================================================================\n",
       "Omnibus:                       15.367   Durbin-Watson:                   0.345\n",
       "Prob(Omnibus):                  0.000   Jarque-Bera (JB):               17.622\n",
       "Skew:                          -1.337   Prob(JB):                     0.000149\n",
       "Kurtosis:                       5.380   Cond. No.                         36.5\n",
       "==============================================================================\n",
       "\n",
       "Notes:\n",
       "[1] Standard Errors assume that the covariance matrix of the errors is correctly specified.\n",
       "\"\"\""
      ]
     },
     "execution_count": 4,
     "metadata": {},
     "output_type": "execute_result"
    }
   ],
   "source": [
    "lr_le_year_adjusted.summary()"
   ]
  },
  {
   "cell_type": "markdown",
   "id": "d0ba8c15-6382-4ccf-b7bb-beb1641409f0",
   "metadata": {},
   "source": [
    "*Since the confidence intervals for the coefficients do not contain zero and the p-values for the coefficients are small (p=0 for both coefficients), we can conclude that the effect of time on average global life expectancy is statistically significant.*"
   ]
  },
  {
   "cell_type": "code",
   "execution_count": 5,
   "id": "5eccea64-36b0-4076-b50a-550e43373d61",
   "metadata": {},
   "outputs": [
    {
     "data": {
      "text/html": [
       "<div>\n",
       "<style scoped>\n",
       "    .dataframe tbody tr th:only-of-type {\n",
       "        vertical-align: middle;\n",
       "    }\n",
       "\n",
       "    .dataframe tbody tr th {\n",
       "        vertical-align: top;\n",
       "    }\n",
       "\n",
       "    .dataframe thead th {\n",
       "        text-align: right;\n",
       "    }\n",
       "</style>\n",
       "<table border=\"1\" class=\"dataframe\">\n",
       "  <thead>\n",
       "    <tr style=\"text-align: right;\">\n",
       "      <th></th>\n",
       "      <th>Year</th>\n",
       "      <th>Life_Expectancy</th>\n",
       "      <th>LE_Mean_Estimate</th>\n",
       "      <th>Residual</th>\n",
       "    </tr>\n",
       "  </thead>\n",
       "  <tbody>\n",
       "    <tr>\n",
       "      <th>0</th>\n",
       "      <td>1990</td>\n",
       "      <td>64.745253</td>\n",
       "      <td>64.626339</td>\n",
       "      <td>0.118914</td>\n",
       "    </tr>\n",
       "    <tr>\n",
       "      <th>1</th>\n",
       "      <td>1991</td>\n",
       "      <td>65.021276</td>\n",
       "      <td>64.894055</td>\n",
       "      <td>0.127221</td>\n",
       "    </tr>\n",
       "    <tr>\n",
       "      <th>2</th>\n",
       "      <td>1992</td>\n",
       "      <td>65.217845</td>\n",
       "      <td>65.161771</td>\n",
       "      <td>0.056074</td>\n",
       "    </tr>\n",
       "    <tr>\n",
       "      <th>3</th>\n",
       "      <td>1993</td>\n",
       "      <td>65.218031</td>\n",
       "      <td>65.429487</td>\n",
       "      <td>-0.211456</td>\n",
       "    </tr>\n",
       "    <tr>\n",
       "      <th>4</th>\n",
       "      <td>1994</td>\n",
       "      <td>65.339539</td>\n",
       "      <td>65.697203</td>\n",
       "      <td>-0.357665</td>\n",
       "    </tr>\n",
       "    <tr>\n",
       "      <th>5</th>\n",
       "      <td>1995</td>\n",
       "      <td>65.956224</td>\n",
       "      <td>65.964919</td>\n",
       "      <td>-0.008696</td>\n",
       "    </tr>\n",
       "    <tr>\n",
       "      <th>6</th>\n",
       "      <td>1996</td>\n",
       "      <td>66.200189</td>\n",
       "      <td>66.232635</td>\n",
       "      <td>-0.032447</td>\n",
       "    </tr>\n",
       "    <tr>\n",
       "      <th>7</th>\n",
       "      <td>1997</td>\n",
       "      <td>66.437280</td>\n",
       "      <td>66.500352</td>\n",
       "      <td>-0.063071</td>\n",
       "    </tr>\n",
       "    <tr>\n",
       "      <th>8</th>\n",
       "      <td>1998</td>\n",
       "      <td>66.556082</td>\n",
       "      <td>66.768068</td>\n",
       "      <td>-0.211986</td>\n",
       "    </tr>\n",
       "    <tr>\n",
       "      <th>9</th>\n",
       "      <td>1999</td>\n",
       "      <td>66.916176</td>\n",
       "      <td>67.035784</td>\n",
       "      <td>-0.119608</td>\n",
       "    </tr>\n",
       "    <tr>\n",
       "      <th>10</th>\n",
       "      <td>2000</td>\n",
       "      <td>67.154618</td>\n",
       "      <td>67.303500</td>\n",
       "      <td>-0.148882</td>\n",
       "    </tr>\n",
       "    <tr>\n",
       "      <th>11</th>\n",
       "      <td>2001</td>\n",
       "      <td>67.445644</td>\n",
       "      <td>67.571216</td>\n",
       "      <td>-0.125572</td>\n",
       "    </tr>\n",
       "    <tr>\n",
       "      <th>12</th>\n",
       "      <td>2002</td>\n",
       "      <td>67.653800</td>\n",
       "      <td>67.838932</td>\n",
       "      <td>-0.185132</td>\n",
       "    </tr>\n",
       "    <tr>\n",
       "      <th>13</th>\n",
       "      <td>2003</td>\n",
       "      <td>67.907879</td>\n",
       "      <td>68.106648</td>\n",
       "      <td>-0.198769</td>\n",
       "    </tr>\n",
       "    <tr>\n",
       "      <th>14</th>\n",
       "      <td>2004</td>\n",
       "      <td>68.194988</td>\n",
       "      <td>68.374364</td>\n",
       "      <td>-0.179377</td>\n",
       "    </tr>\n",
       "    <tr>\n",
       "      <th>15</th>\n",
       "      <td>2005</td>\n",
       "      <td>68.511619</td>\n",
       "      <td>68.642080</td>\n",
       "      <td>-0.130461</td>\n",
       "    </tr>\n",
       "    <tr>\n",
       "      <th>16</th>\n",
       "      <td>2006</td>\n",
       "      <td>68.866658</td>\n",
       "      <td>68.909796</td>\n",
       "      <td>-0.043138</td>\n",
       "    </tr>\n",
       "    <tr>\n",
       "      <th>17</th>\n",
       "      <td>2007</td>\n",
       "      <td>69.199696</td>\n",
       "      <td>69.177512</td>\n",
       "      <td>0.022183</td>\n",
       "    </tr>\n",
       "    <tr>\n",
       "      <th>18</th>\n",
       "      <td>2008</td>\n",
       "      <td>69.578075</td>\n",
       "      <td>69.445228</td>\n",
       "      <td>0.132847</td>\n",
       "    </tr>\n",
       "    <tr>\n",
       "      <th>19</th>\n",
       "      <td>2009</td>\n",
       "      <td>69.990552</td>\n",
       "      <td>69.712945</td>\n",
       "      <td>0.277607</td>\n",
       "    </tr>\n",
       "    <tr>\n",
       "      <th>20</th>\n",
       "      <td>2010</td>\n",
       "      <td>70.363572</td>\n",
       "      <td>69.980661</td>\n",
       "      <td>0.382911</td>\n",
       "    </tr>\n",
       "    <tr>\n",
       "      <th>21</th>\n",
       "      <td>2011</td>\n",
       "      <td>70.756336</td>\n",
       "      <td>70.248377</td>\n",
       "      <td>0.507960</td>\n",
       "    </tr>\n",
       "    <tr>\n",
       "      <th>22</th>\n",
       "      <td>2012</td>\n",
       "      <td>71.086031</td>\n",
       "      <td>70.516093</td>\n",
       "      <td>0.569939</td>\n",
       "    </tr>\n",
       "    <tr>\n",
       "      <th>23</th>\n",
       "      <td>2013</td>\n",
       "      <td>71.221144</td>\n",
       "      <td>70.783809</td>\n",
       "      <td>0.437335</td>\n",
       "    </tr>\n",
       "    <tr>\n",
       "      <th>24</th>\n",
       "      <td>2014</td>\n",
       "      <td>71.490074</td>\n",
       "      <td>71.051525</td>\n",
       "      <td>0.438549</td>\n",
       "    </tr>\n",
       "    <tr>\n",
       "      <th>25</th>\n",
       "      <td>2015</td>\n",
       "      <td>71.725811</td>\n",
       "      <td>71.319241</td>\n",
       "      <td>0.406570</td>\n",
       "    </tr>\n",
       "    <tr>\n",
       "      <th>26</th>\n",
       "      <td>2016</td>\n",
       "      <td>72.049365</td>\n",
       "      <td>71.586957</td>\n",
       "      <td>0.462408</td>\n",
       "    </tr>\n",
       "    <tr>\n",
       "      <th>27</th>\n",
       "      <td>2017</td>\n",
       "      <td>72.280413</td>\n",
       "      <td>71.854673</td>\n",
       "      <td>0.425740</td>\n",
       "    </tr>\n",
       "    <tr>\n",
       "      <th>28</th>\n",
       "      <td>2018</td>\n",
       "      <td>72.493003</td>\n",
       "      <td>72.122389</td>\n",
       "      <td>0.370613</td>\n",
       "    </tr>\n",
       "    <tr>\n",
       "      <th>29</th>\n",
       "      <td>2019</td>\n",
       "      <td>72.726851</td>\n",
       "      <td>72.390105</td>\n",
       "      <td>0.336746</td>\n",
       "    </tr>\n",
       "    <tr>\n",
       "      <th>30</th>\n",
       "      <td>2020</td>\n",
       "      <td>72.044532</td>\n",
       "      <td>72.657822</td>\n",
       "      <td>-0.613290</td>\n",
       "    </tr>\n",
       "    <tr>\n",
       "      <th>31</th>\n",
       "      <td>2021</td>\n",
       "      <td>71.520337</td>\n",
       "      <td>72.925538</td>\n",
       "      <td>-1.405200</td>\n",
       "    </tr>\n",
       "    <tr>\n",
       "      <th>32</th>\n",
       "      <td>2022</td>\n",
       "      <td>72.154386</td>\n",
       "      <td>73.193254</td>\n",
       "      <td>-1.038868</td>\n",
       "    </tr>\n",
       "  </tbody>\n",
       "</table>\n",
       "</div>"
      ],
      "text/plain": [
       "    Year  Life_Expectancy  LE_Mean_Estimate  Residual\n",
       "0   1990        64.745253         64.626339  0.118914\n",
       "1   1991        65.021276         64.894055  0.127221\n",
       "2   1992        65.217845         65.161771  0.056074\n",
       "3   1993        65.218031         65.429487 -0.211456\n",
       "4   1994        65.339539         65.697203 -0.357665\n",
       "5   1995        65.956224         65.964919 -0.008696\n",
       "6   1996        66.200189         66.232635 -0.032447\n",
       "7   1997        66.437280         66.500352 -0.063071\n",
       "8   1998        66.556082         66.768068 -0.211986\n",
       "9   1999        66.916176         67.035784 -0.119608\n",
       "10  2000        67.154618         67.303500 -0.148882\n",
       "11  2001        67.445644         67.571216 -0.125572\n",
       "12  2002        67.653800         67.838932 -0.185132\n",
       "13  2003        67.907879         68.106648 -0.198769\n",
       "14  2004        68.194988         68.374364 -0.179377\n",
       "15  2005        68.511619         68.642080 -0.130461\n",
       "16  2006        68.866658         68.909796 -0.043138\n",
       "17  2007        69.199696         69.177512  0.022183\n",
       "18  2008        69.578075         69.445228  0.132847\n",
       "19  2009        69.990552         69.712945  0.277607\n",
       "20  2010        70.363572         69.980661  0.382911\n",
       "21  2011        70.756336         70.248377  0.507960\n",
       "22  2012        71.086031         70.516093  0.569939\n",
       "23  2013        71.221144         70.783809  0.437335\n",
       "24  2014        71.490074         71.051525  0.438549\n",
       "25  2015        71.725811         71.319241  0.406570\n",
       "26  2016        72.049365         71.586957  0.462408\n",
       "27  2017        72.280413         71.854673  0.425740\n",
       "28  2018        72.493003         72.122389  0.370613\n",
       "29  2019        72.726851         72.390105  0.336746\n",
       "30  2020        72.044532         72.657822 -0.613290\n",
       "31  2021        71.520337         72.925538 -1.405200\n",
       "32  2022        72.154386         73.193254 -1.038868"
      ]
     },
     "execution_count": 5,
     "metadata": {},
     "output_type": "execute_result"
    }
   ],
   "source": [
    "# Compare actual mean life expectancy per year to the model's estimate\n",
    "\n",
    "# Generate estimated average life expectancy per year using the least squares regression model\n",
    "gdp_le_agg['LE_Mean_Estimate'] = lr_le_year_adjusted.predict(gdp_le_agg[['Year']])\n",
    "\n",
    "gdp_le_agg['Residual'] = lr_le_year_adjusted.resid\n",
    "\n",
    "gdp_le_agg"
   ]
  },
  {
   "cell_type": "markdown",
   "id": "e0a1d9dd-97d8-43e3-83c5-d6362b25d276",
   "metadata": {},
   "source": [
    "*The least squares regression model did a very good job of predicting the real-world average life expectancy per year. The predictions were within 1.5 year of the actual average global life expectancy for each year.*"
   ]
  },
  {
   "cell_type": "code",
   "execution_count": 6,
   "id": "7f57b9b6-1fbe-4ad6-9500-8f64ee403aa7",
   "metadata": {},
   "outputs": [
    {
     "data": {
      "image/png": "[encoded data removed]",
      "text/plain": [
       "<Figure size 640x480 with 1 Axes>"
      ]
     },
     "metadata": {},
     "output_type": "display_data"
    }
   ],
   "source": [
    "# Plot the estimates against the actual average life expectancies\n",
    "fig, ax = plt.subplots()\n",
    "gdp_le_agg.plot(kind='scatter', x='Year', y='Life_Expectancy', ax=ax, alpha=0.5)\n",
    "gdp_le_agg.plot(kind='line', x='Year', y='LE_Mean_Estimate', label='Estimated Avg Global Life Expectancy',color='black', ax=ax, alpha=0.5);\n",
    "plt.title('Average Global Life Expectancy, 1990-2023')\n",
    "plt.ylabel('Life Expectancy (in years)')\n",
    "plt.show()"
   ]
  },
  {
   "cell_type": "code",
   "execution_count": 7,
   "id": "11a0b080-d95b-4054-830b-adccfd6d2880",
   "metadata": {},
   "outputs": [
    {
     "name": "stdout",
     "output_type": "stream",
     "text": [
      "The r-squared value for the model is 0.97.\n"
     ]
    }
   ],
   "source": [
    "print(f'The r-squared value for the model is {lr_le_year_adjusted.rsquared:.2f}.')"
   ]
  },
  {
   "cell_type": "markdown",
   "id": "bef0b58e-b619-484c-828b-3c529cdad99d",
   "metadata": {},
   "source": [
    "*Given the plot, the r-squared value of 0.97 makes sense. Most of the observations lie very close to the regression line, so we'd expect an r-squared value close to 1. An r-squared value of 0.97 indicates that the variability in average global life expectancy can be reduced by about 97% by using the predicted values produced by the linear regression model.*"
   ]
  },
  {
   "cell_type": "markdown",
   "id": "919686cc-bcc6-4063-bf6f-1eb1c78807f5",
   "metadata": {},
   "source": [
    "##### Question 2"
   ]
  },
  {
   "cell_type": "markdown",
   "id": "02c6d362-bfa2-4ce2-9428-dd756c0ad912",
   "metadata": {},
   "source": [
    "Filter the full dataset down to just the year 2021. Fit a linear regression model with target being life expectancy and predictor variable gdp per capita.  \n",
    "a. What coefficients do you get? Interpret the meaning of those coefficients.  \n",
    "b. Refit your model, but this time use thousands of dollars of gdp per capita as your predictor. How does this change your coefficients?  \n",
    "c. Are the coefficients statistically significant?  \n",
    "d. What does your model estimate for the mean life expectancy for a country whose gdp per capita is \\\\$50,000\\? What about one whose gdp per capita is \\\\$100,000?   \n",
    "e. Plot the actual values compared to your model's estimates for mean life expectancy. How would you assess the model's fit?"
   ]
  },
  {
   "cell_type": "code",
   "execution_count": 25,
   "id": "493f14e5-a2af-409f-8259-d545bf363609",
   "metadata": {},
   "outputs": [
    {
     "data": {
      "text/html": [
       "<div>\n",
       "<style scoped>\n",
       "    .dataframe tbody tr th:only-of-type {\n",
       "        vertical-align: middle;\n",
       "    }\n",
       "\n",
       "    .dataframe tbody tr th {\n",
       "        vertical-align: top;\n",
       "    }\n",
       "\n",
       "    .dataframe thead th {\n",
       "        text-align: right;\n",
       "    }\n",
       "</style>\n",
       "<table border=\"1\" class=\"dataframe\">\n",
       "  <thead>\n",
       "    <tr style=\"text-align: right;\">\n",
       "      <th></th>\n",
       "      <th>Country</th>\n",
       "      <th>Year</th>\n",
       "      <th>GDP_Per_Capita</th>\n",
       "      <th>Continent</th>\n",
       "      <th>Life_Expectancy</th>\n",
       "    </tr>\n",
       "  </thead>\n",
       "  <tbody>\n",
       "    <tr>\n",
       "      <th>0</th>\n",
       "      <td>Afghanistan</td>\n",
       "      <td>2021</td>\n",
       "      <td>1517.016266</td>\n",
       "      <td>Asia</td>\n",
       "      <td>61.982</td>\n",
       "    </tr>\n",
       "    <tr>\n",
       "      <th>21</th>\n",
       "      <td>Albania</td>\n",
       "      <td>2021</td>\n",
       "      <td>14595.944386</td>\n",
       "      <td>Europe</td>\n",
       "      <td>76.463</td>\n",
       "    </tr>\n",
       "    <tr>\n",
       "      <th>54</th>\n",
       "      <td>Algeria</td>\n",
       "      <td>2021</td>\n",
       "      <td>11029.138782</td>\n",
       "      <td>Africa</td>\n",
       "      <td>76.377</td>\n",
       "    </tr>\n",
       "    <tr>\n",
       "      <th>87</th>\n",
       "      <td>Angola</td>\n",
       "      <td>2021</td>\n",
       "      <td>5911.835657</td>\n",
       "      <td>Africa</td>\n",
       "      <td>61.643</td>\n",
       "    </tr>\n",
       "    <tr>\n",
       "      <th>120</th>\n",
       "      <td>Antigua and Barbuda</td>\n",
       "      <td>2021</td>\n",
       "      <td>19899.882425</td>\n",
       "      <td>North America</td>\n",
       "      <td>78.497</td>\n",
       "    </tr>\n",
       "    <tr>\n",
       "      <th>...</th>\n",
       "      <td>...</td>\n",
       "      <td>...</td>\n",
       "      <td>...</td>\n",
       "      <td>...</td>\n",
       "      <td>...</td>\n",
       "    </tr>\n",
       "    <tr>\n",
       "      <th>5344</th>\n",
       "      <td>Uzbekistan</td>\n",
       "      <td>2021</td>\n",
       "      <td>7800.501501</td>\n",
       "      <td>Asia</td>\n",
       "      <td>70.862</td>\n",
       "    </tr>\n",
       "    <tr>\n",
       "      <th>5377</th>\n",
       "      <td>Vanuatu</td>\n",
       "      <td>2021</td>\n",
       "      <td>2800.493866</td>\n",
       "      <td>Oceania</td>\n",
       "      <td>70.449</td>\n",
       "    </tr>\n",
       "    <tr>\n",
       "      <th>5410</th>\n",
       "      <td>West Bank and Gaza</td>\n",
       "      <td>2021</td>\n",
       "      <td>5641.044400</td>\n",
       "      <td>Asia</td>\n",
       "      <td>73.473</td>\n",
       "    </tr>\n",
       "    <tr>\n",
       "      <th>5439</th>\n",
       "      <td>Zambia</td>\n",
       "      <td>2021</td>\n",
       "      <td>3236.788981</td>\n",
       "      <td>Africa</td>\n",
       "      <td>61.223</td>\n",
       "    </tr>\n",
       "    <tr>\n",
       "      <th>5472</th>\n",
       "      <td>Zimbabwe</td>\n",
       "      <td>2021</td>\n",
       "      <td>2115.144555</td>\n",
       "      <td>Africa</td>\n",
       "      <td>59.253</td>\n",
       "    </tr>\n",
       "  </tbody>\n",
       "</table>\n",
       "<p>173 rows × 5 columns</p>\n",
       "</div>"
      ],
      "text/plain": [
       "                  Country  Year  GDP_Per_Capita      Continent  \\\n",
       "0             Afghanistan  2021     1517.016266           Asia   \n",
       "21                Albania  2021    14595.944386         Europe   \n",
       "54                Algeria  2021    11029.138782         Africa   \n",
       "87                 Angola  2021     5911.835657         Africa   \n",
       "120   Antigua and Barbuda  2021    19899.882425  North America   \n",
       "...                   ...   ...             ...            ...   \n",
       "5344           Uzbekistan  2021     7800.501501           Asia   \n",
       "5377              Vanuatu  2021     2800.493866        Oceania   \n",
       "5410   West Bank and Gaza  2021     5641.044400           Asia   \n",
       "5439               Zambia  2021     3236.788981         Africa   \n",
       "5472             Zimbabwe  2021     2115.144555         Africa   \n",
       "\n",
       "      Life_Expectancy  \n",
       "0              61.982  \n",
       "21             76.463  \n",
       "54             76.377  \n",
       "87             61.643  \n",
       "120            78.497  \n",
       "...               ...  \n",
       "5344           70.862  \n",
       "5377           70.449  \n",
       "5410           73.473  \n",
       "5439           61.223  \n",
       "5472           59.253  \n",
       "\n",
       "[173 rows x 5 columns]"
      ]
     },
     "execution_count": 25,
     "metadata": {},
     "output_type": "execute_result"
    }
   ],
   "source": [
    "# Filter the full dataset down to just the year 2021\n",
    "gdp_le_2021=gdp_le[gdp_le['Year']==2021].copy()"
   ]
  },
  {
   "cell_type": "code",
   "execution_count": 10,
   "id": "52331999-2990-49c2-918d-d87b385ceb5e",
   "metadata": {},
   "outputs": [
    {
     "data": {
      "text/plain": [
       "Intercept         65.949870\n",
       "GDP_Per_Capita     0.000257\n",
       "dtype: float64"
      ]
     },
     "execution_count": 10,
     "metadata": {},
     "output_type": "execute_result"
    }
   ],
   "source": [
    "lr_le_2021 = smf.ols(\"Life_Expectancy ~ GDP_Per_Capita\", data=gdp_le_2021).fit()\n",
    "lr_le_2021.params"
   ]
  },
  {
   "cell_type": "markdown",
   "id": "38cca441-d9dc-46bf-87d4-035c2313f643",
   "metadata": {},
   "source": [
    "*For our least squares regression model comparing life expectancy to GDP per capita in 2021, we see that an increase of 1,000 PPP per capita results in a roughly 0.26-year increase in average life expectancy. The intercept indicates that a country with 0 GDP per capita would have an average life expectancy of about 65.9 years.*"
   ]
  },
  {
   "cell_type": "code",
   "execution_count": 45,
   "id": "ca239624-6c15-4b7c-9692-a63470eb596c",
   "metadata": {},
   "outputs": [
    {
     "data": {
      "text/plain": [
       "Intercept                   65.949870\n",
       "I(GDP_Per_Capita / 1000)     0.256892\n",
       "dtype: float64"
      ]
     },
     "execution_count": 45,
     "metadata": {},
     "output_type": "execute_result"
    }
   ],
   "source": [
    "lr_le_2021_adjusted = smf.ols(\"Life_Expectancy ~ I(GDP_Per_Capita/1000)\", data=gdp_le_2021).fit()\n",
    "lr_le_2021_adjusted.params"
   ]
  },
  {
   "cell_type": "markdown",
   "id": "f551834d-61b9-4013-a097-e7b74ba4612d",
   "metadata": {},
   "source": [
    "*The intercept does not change, but the slope of the regression line was multiplied by 1,000.*"
   ]
  },
  {
   "cell_type": "code",
   "execution_count": 46,
   "id": "b0bc734c-43b7-4747-9318-1131f60fa24e",
   "metadata": {},
   "outputs": [
    {
     "data": {
      "text/html": [
       "<table class=\"simpletable\">\n",
       "<caption>OLS Regression Results</caption>\n",
       "<tr>\n",
       "  <th>Dep. Variable:</th>     <td>Life_Expectancy</td> <th>  R-squared:         </th> <td>   0.555</td>\n",
       "</tr>\n",
       "<tr>\n",
       "  <th>Model:</th>                   <td>OLS</td>       <th>  Adj. R-squared:    </th> <td>   0.553</td>\n",
       "</tr>\n",
       "<tr>\n",
       "  <th>Method:</th>             <td>Least Squares</td>  <th>  F-statistic:       </th> <td>   213.4</td>\n",
       "</tr>\n",
       "<tr>\n",
       "  <th>Date:</th>             <td>Sat, 25 Oct 2025</td> <th>  Prob (F-statistic):</th> <td>6.81e-32</td>\n",
       "</tr>\n",
       "<tr>\n",
       "  <th>Time:</th>                 <td>12:09:07</td>     <th>  Log-Likelihood:    </th> <td> -529.25</td>\n",
       "</tr>\n",
       "<tr>\n",
       "  <th>No. Observations:</th>      <td>   173</td>      <th>  AIC:               </th> <td>   1062.</td>\n",
       "</tr>\n",
       "<tr>\n",
       "  <th>Df Residuals:</th>          <td>   171</td>      <th>  BIC:               </th> <td>   1069.</td>\n",
       "</tr>\n",
       "<tr>\n",
       "  <th>Df Model:</th>              <td>     1</td>      <th>                     </th>     <td> </td>   \n",
       "</tr>\n",
       "<tr>\n",
       "  <th>Covariance Type:</th>      <td>nonrobust</td>    <th>                     </th>     <td> </td>   \n",
       "</tr>\n",
       "</table>\n",
       "<table class=\"simpletable\">\n",
       "<tr>\n",
       "              <td></td>                <th>coef</th>     <th>std err</th>      <th>t</th>      <th>P>|t|</th>  <th>[0.025</th>    <th>0.975]</th>  \n",
       "</tr>\n",
       "<tr>\n",
       "  <th>Intercept</th>                <td>   65.9499</td> <td>    0.549</td> <td>  120.225</td> <td> 0.000</td> <td>   64.867</td> <td>   67.033</td>\n",
       "</tr>\n",
       "<tr>\n",
       "  <th>I(GDP_Per_Capita / 1000)</th> <td>    0.2569</td> <td>    0.018</td> <td>   14.608</td> <td> 0.000</td> <td>    0.222</td> <td>    0.292</td>\n",
       "</tr>\n",
       "</table>\n",
       "<table class=\"simpletable\">\n",
       "<tr>\n",
       "  <th>Omnibus:</th>       <td>11.676</td> <th>  Durbin-Watson:     </th> <td>   1.887</td>\n",
       "</tr>\n",
       "<tr>\n",
       "  <th>Prob(Omnibus):</th> <td> 0.003</td> <th>  Jarque-Bera (JB):  </th> <td>  12.725</td>\n",
       "</tr>\n",
       "<tr>\n",
       "  <th>Skew:</th>          <td>-0.664</td> <th>  Prob(JB):          </th> <td> 0.00173</td>\n",
       "</tr>\n",
       "<tr>\n",
       "  <th>Kurtosis:</th>      <td> 2.946</td> <th>  Cond. No.          </th> <td>    43.4</td>\n",
       "</tr>\n",
       "</table><br/><br/>Notes:<br/>[1] Standard Errors assume that the covariance matrix of the errors is correctly specified."
      ],
      "text/latex": [
       "\\begin{center}\n",
       "\\begin{tabular}{lclc}\n",
       "\\toprule\n",
       "\\textbf{Dep. Variable:}             & Life\\_Expectancy & \\textbf{  R-squared:         } &     0.555   \\\\\n",
       "\\textbf{Model:}                     &       OLS        & \\textbf{  Adj. R-squared:    } &     0.553   \\\\\n",
       "\\textbf{Method:}                    &  Least Squares   & \\textbf{  F-statistic:       } &     213.4   \\\\\n",
       "\\textbf{Date:}                      & Sat, 25 Oct 2025 & \\textbf{  Prob (F-statistic):} &  6.81e-32   \\\\\n",
       "\\textbf{Time:}                      &     12:09:07     & \\textbf{  Log-Likelihood:    } &   -529.25   \\\\\n",
       "\\textbf{No. Observations:}          &         173      & \\textbf{  AIC:               } &     1062.   \\\\\n",
       "\\textbf{Df Residuals:}              &         171      & \\textbf{  BIC:               } &     1069.   \\\\\n",
       "\\textbf{Df Model:}                  &           1      & \\textbf{                     } &             \\\\\n",
       "\\textbf{Covariance Type:}           &    nonrobust     & \\textbf{                     } &             \\\\\n",
       "\\bottomrule\n",
       "\\end{tabular}\n",
       "\\begin{tabular}{lcccccc}\n",
       "                                    & \\textbf{coef} & \\textbf{std err} & \\textbf{t} & \\textbf{P$> |$t$|$} & \\textbf{[0.025} & \\textbf{0.975]}  \\\\\n",
       "\\midrule\n",
       "\\textbf{Intercept}                  &      65.9499  &        0.549     &   120.225  &         0.000        &       64.867    &       67.033     \\\\\n",
       "\\textbf{I(GDP\\_Per\\_Capita / 1000)} &       0.2569  &        0.018     &    14.608  &         0.000        &        0.222    &        0.292     \\\\\n",
       "\\bottomrule\n",
       "\\end{tabular}\n",
       "\\begin{tabular}{lclc}\n",
       "\\textbf{Omnibus:}       & 11.676 & \\textbf{  Durbin-Watson:     } &    1.887  \\\\\n",
       "\\textbf{Prob(Omnibus):} &  0.003 & \\textbf{  Jarque-Bera (JB):  } &   12.725  \\\\\n",
       "\\textbf{Skew:}          & -0.664 & \\textbf{  Prob(JB):          } &  0.00173  \\\\\n",
       "\\textbf{Kurtosis:}      &  2.946 & \\textbf{  Cond. No.          } &     43.4  \\\\\n",
       "\\bottomrule\n",
       "\\end{tabular}\n",
       "%\\caption{OLS Regression Results}\n",
       "\\end{center}\n",
       "\n",
       "Notes: \\newline\n",
       " [1] Standard Errors assume that the covariance matrix of the errors is correctly specified."
      ],
      "text/plain": [
       "<class 'statsmodels.iolib.summary.Summary'>\n",
       "\"\"\"\n",
       "                            OLS Regression Results                            \n",
       "==============================================================================\n",
       "Dep. Variable:        Life_Expectancy   R-squared:                       0.555\n",
       "Model:                            OLS   Adj. R-squared:                  0.553\n",
       "Method:                 Least Squares   F-statistic:                     213.4\n",
       "Date:                Sat, 25 Oct 2025   Prob (F-statistic):           6.81e-32\n",
       "Time:                        12:09:07   Log-Likelihood:                -529.25\n",
       "No. Observations:                 173   AIC:                             1062.\n",
       "Df Residuals:                     171   BIC:                             1069.\n",
       "Df Model:                           1                                         \n",
       "Covariance Type:            nonrobust                                         \n",
       "============================================================================================\n",
       "                               coef    std err          t      P>|t|      [0.025      0.975]\n",
       "--------------------------------------------------------------------------------------------\n",
       "Intercept                   65.9499      0.549    120.225      0.000      64.867      67.033\n",
       "I(GDP_Per_Capita / 1000)     0.2569      0.018     14.608      0.000       0.222       0.292\n",
       "==============================================================================\n",
       "Omnibus:                       11.676   Durbin-Watson:                   1.887\n",
       "Prob(Omnibus):                  0.003   Jarque-Bera (JB):               12.725\n",
       "Skew:                          -0.664   Prob(JB):                      0.00173\n",
       "Kurtosis:                       2.946   Cond. No.                         43.4\n",
       "==============================================================================\n",
       "\n",
       "Notes:\n",
       "[1] Standard Errors assume that the covariance matrix of the errors is correctly specified.\n",
       "\"\"\""
      ]
     },
     "execution_count": 46,
     "metadata": {},
     "output_type": "execute_result"
    }
   ],
   "source": [
    "lr_le_2021_adjusted.summary()"
   ]
  },
  {
   "cell_type": "markdown",
   "id": "f55c4d2e-2faa-4e0c-b70b-ef76e2a7dda8",
   "metadata": {},
   "source": [
    "*The p-value for the GDP Per Capita coefficient is 0.000, which is statistically significant.*"
   ]
  },
  {
   "cell_type": "code",
   "execution_count": 82,
   "id": "3c3f753c-c95c-4350-9d97-e5efd9181615",
   "metadata": {},
   "outputs": [
    {
     "name": "stdout",
     "output_type": "stream",
     "text": [
      "The estimated mean life expectancy for a country whose GDP per capita is $50k is 78.79 years.\n"
     ]
    }
   ],
   "source": [
    "# Model estimate for mean life expectancy for a country whose gdp per capita is $50,000 \n",
    "def model_estimate(model, slope, input):\n",
    "    return model.params['Intercept'] + model.params[slope]*input\n",
    "    \n",
    "estimate_50 = model_estimate(lr_le_2021_adjusted,'I(GDP_Per_Capita / 1000)',50)\n",
    "print(f'The estimated mean life expectancy for a country whose GDP per capita is $50k is {estimate_50:.2f} years.')"
   ]
  },
  {
   "cell_type": "code",
   "execution_count": 83,
   "id": "1d5d70b4-5525-4018-a66d-5fd98eee7758",
   "metadata": {},
   "outputs": [
    {
     "name": "stdout",
     "output_type": "stream",
     "text": [
      "The estimated mean life expectancy for a country whose GDP per capita is $100k is 91.64 years.\n"
     ]
    }
   ],
   "source": [
    "# Model estimate for mean life expectancy for a country whose gdp per capita is $100,000\n",
    "estimate_100 = model_estimate(lr_le_2021_adjusted,'I(GDP_Per_Capita / 1000)',100)\n",
    "print(f'The estimated mean life expectancy for a country whose GDP per capita is $100k is {estimate_100:.2f} years.')"
   ]
  },
  {
   "cell_type": "code",
   "execution_count": 84,
   "id": "ba1afe09-005f-4fac-99fd-a24751937783",
   "metadata": {},
   "outputs": [],
   "source": [
    "# Plotting actual values compared to the model's estimates for mean life expectancy\n",
    "# Adding a column for GDP_Per_Capita divided by 1000\n",
    "gdp_le_2021['GDP_Per_Capita_Adjusted'] = gdp_le_2021['GDP_Per_Capita'] / 1000"
   ]
  },
  {
   "cell_type": "code",
   "execution_count": 85,
   "id": "ac444130-6015-4f14-85a4-a2824e7314a2",
   "metadata": {},
   "outputs": [],
   "source": [
    "# Generating model predictions\n",
    "pred_df = pd.DataFrame(\n",
    "    {\n",
    "        'GDP_Per_Capita': np.linspace(start=gdp_le_2021['GDP_Per_Capita'].min(), stop=gdp_le_2021['GDP_Per_Capita'].max())\n",
    "    }\n",
    ")\n",
    "\n",
    "pred_df['Mean_LE_Estimate'] = lr_le_2021_adjusted.predict(pred_df)\n",
    "pred_df['GDP_Per_Capita_Adjusted'] = pred_df['GDP_Per_Capita']/1000"
   ]
  },
  {
   "cell_type": "code",
   "execution_count": 86,
   "id": "f6e919ac-2d52-480e-a01b-296f77484ed1",
   "metadata": {},
   "outputs": [
    {
     "data": {
      "image/png": "[encoded data removed]",
      "text/plain": [
       "<Figure size 640x480 with 1 Axes>"
      ]
     },
     "metadata": {},
     "output_type": "display_data"
    }
   ],
   "source": [
    "# Plotting predictions against actual data\n",
    "fig, ax = plt.subplots()\n",
    "gdp_le_2021.plot(kind=\"scatter\", x=\"GDP_Per_Capita_Adjusted\", y=\"Life_Expectancy\", ax=ax, alpha=0.5)\n",
    "pred_df.plot(kind=\"line\", x=\"GDP_Per_Capita_Adjusted\", y=\"Mean_LE_Estimate\", color=\"black\", ax=ax, label='Estimated Avg Global Life Expectancy');\n",
    "plt.title('Average Global Life Expectancy vs GDP Per Capita, 2021')\n",
    "plt.ylabel('Life Expectancy (in years)')\n",
    "plt.xlabel('GDP Per Capita (in PPP)')\n",
    "plt.show()"
   ]
  },
  {
   "cell_type": "markdown",
   "id": "ad1bdacf-2a52-464b-b7ba-0f6569e92f1c",
   "metadata": {},
   "source": [
    "*Based on the plot, a linear model appears to be a poor choice for the data, since the residuals are not evenly distributed around the regression line. For low GDP observations, the regression line tends to overestimate life expectancy; towards the middle of GDP observations, the regression line tends to underestimate life expectancy; and for higher GDP observations, the regression line tends to overestimate life expectancy.*"
   ]
  },
  {
   "cell_type": "code",
   "execution_count": null,
   "id": "c052b70f-d453-4535-9c92-a15832aad900",
   "metadata": {},
   "outputs": [],
   "source": []
  },
  {
   "cell_type": "markdown",
   "id": "b6871ace-fe32-4ae0-a613-e37f96c8fe5c",
   "metadata": {},
   "source": [
    "##### Question 3"
   ]
  },
  {
   "cell_type": "markdown",
   "id": "a7f61634-f32b-44b9-aca6-97b1ffb4ed2e",
   "metadata": {},
   "source": [
    "Now, fit a model for life expectancy based on the log of gdp per capita.  \n",
    "a. Inspect the coefficients for this model. Are they statistically significant?   \n",
    "b. Interpret these coefficients. What does the model estimate for the average life expectancy for countries with a gdp per capita of \\\\$50,000? What about for those with a gdp per capita of \\\\$100,000?   \n",
    "c. Plot the actual values compared to your models' estimates for the mean life expectancy. How does this compare to the non-logged model?"
   ]
  },
  {
   "cell_type": "code",
   "execution_count": 77,
   "id": "09274e20-d164-4206-9a32-3fee9520466d",
   "metadata": {},
   "outputs": [
    {
     "data": {
      "text/plain": [
       "Intercept                    18.946970\n",
       "I(np.log(GDP_Per_Capita))     5.589014\n",
       "dtype: float64"
      ]
     },
     "execution_count": 77,
     "metadata": {},
     "output_type": "execute_result"
    }
   ],
   "source": [
    "lr_le_2021_log = smf.ols(\"Life_Expectancy ~ I(np.log(GDP_Per_Capita))\", data=gdp_le_2021).fit()\n",
    "lr_le_2021_log.params"
   ]
  },
  {
   "cell_type": "markdown",
   "id": "3393f040-cb42-4ec1-b742-725b80d5409a",
   "metadata": {},
   "source": [
    "*For our least squares regression model comparing life expectancy to the log of GDP per capita in 2021, we see that an each time GDP per capita increases by a factor of 10, average global life expectancy rises by about 5.6 years. The intercept indicates that a country with 1 PPP per capita would have an average life expectancy of about 18.9 years, which does not seem to make sense in the real-world context.*"
   ]
  },
  {
   "cell_type": "code",
   "execution_count": 78,
   "id": "78c1deee-a05e-44bb-bdbb-50d3603ae78d",
   "metadata": {},
   "outputs": [
    {
     "data": {
      "text/html": [
       "<table class=\"simpletable\">\n",
       "<caption>OLS Regression Results</caption>\n",
       "<tr>\n",
       "  <th>Dep. Variable:</th>     <td>Life_Expectancy</td> <th>  R-squared:         </th> <td>   0.717</td>\n",
       "</tr>\n",
       "<tr>\n",
       "  <th>Model:</th>                   <td>OLS</td>       <th>  Adj. R-squared:    </th> <td>   0.715</td>\n",
       "</tr>\n",
       "<tr>\n",
       "  <th>Method:</th>             <td>Least Squares</td>  <th>  F-statistic:       </th> <td>   432.6</td>\n",
       "</tr>\n",
       "<tr>\n",
       "  <th>Date:</th>             <td>Sat, 25 Oct 2025</td> <th>  Prob (F-statistic):</th> <td>1.06e-48</td>\n",
       "</tr>\n",
       "<tr>\n",
       "  <th>Time:</th>                 <td>12:36:46</td>     <th>  Log-Likelihood:    </th> <td> -490.22</td>\n",
       "</tr>\n",
       "<tr>\n",
       "  <th>No. Observations:</th>      <td>   173</td>      <th>  AIC:               </th> <td>   984.4</td>\n",
       "</tr>\n",
       "<tr>\n",
       "  <th>Df Residuals:</th>          <td>   171</td>      <th>  BIC:               </th> <td>   990.7</td>\n",
       "</tr>\n",
       "<tr>\n",
       "  <th>Df Model:</th>              <td>     1</td>      <th>                     </th>     <td> </td>   \n",
       "</tr>\n",
       "<tr>\n",
       "  <th>Covariance Type:</th>      <td>nonrobust</td>    <th>                     </th>     <td> </td>   \n",
       "</tr>\n",
       "</table>\n",
       "<table class=\"simpletable\">\n",
       "<tr>\n",
       "              <td></td>                 <th>coef</th>     <th>std err</th>      <th>t</th>      <th>P>|t|</th>  <th>[0.025</th>    <th>0.975]</th>  \n",
       "</tr>\n",
       "<tr>\n",
       "  <th>Intercept</th>                 <td>   18.9470</td> <td>    2.547</td> <td>    7.438</td> <td> 0.000</td> <td>   13.919</td> <td>   23.975</td>\n",
       "</tr>\n",
       "<tr>\n",
       "  <th>I(np.log(GDP_Per_Capita))</th> <td>    5.5890</td> <td>    0.269</td> <td>   20.798</td> <td> 0.000</td> <td>    5.059</td> <td>    6.119</td>\n",
       "</tr>\n",
       "</table>\n",
       "<table class=\"simpletable\">\n",
       "<tr>\n",
       "  <th>Omnibus:</th>       <td>16.862</td> <th>  Durbin-Watson:     </th> <td>   1.974</td>\n",
       "</tr>\n",
       "<tr>\n",
       "  <th>Prob(Omnibus):</th> <td> 0.000</td> <th>  Jarque-Bera (JB):  </th> <td>  18.922</td>\n",
       "</tr>\n",
       "<tr>\n",
       "  <th>Skew:</th>          <td>-0.725</td> <th>  Prob(JB):          </th> <td>7.78e-05</td>\n",
       "</tr>\n",
       "<tr>\n",
       "  <th>Kurtosis:</th>      <td> 3.725</td> <th>  Cond. No.          </th> <td>    77.6</td>\n",
       "</tr>\n",
       "</table><br/><br/>Notes:<br/>[1] Standard Errors assume that the covariance matrix of the errors is correctly specified."
      ],
      "text/latex": [
       "\\begin{center}\n",
       "\\begin{tabular}{lclc}\n",
       "\\toprule\n",
       "\\textbf{Dep. Variable:}              & Life\\_Expectancy & \\textbf{  R-squared:         } &     0.717   \\\\\n",
       "\\textbf{Model:}                      &       OLS        & \\textbf{  Adj. R-squared:    } &     0.715   \\\\\n",
       "\\textbf{Method:}                     &  Least Squares   & \\textbf{  F-statistic:       } &     432.6   \\\\\n",
       "\\textbf{Date:}                       & Sat, 25 Oct 2025 & \\textbf{  Prob (F-statistic):} &  1.06e-48   \\\\\n",
       "\\textbf{Time:}                       &     12:36:46     & \\textbf{  Log-Likelihood:    } &   -490.22   \\\\\n",
       "\\textbf{No. Observations:}           &         173      & \\textbf{  AIC:               } &     984.4   \\\\\n",
       "\\textbf{Df Residuals:}               &         171      & \\textbf{  BIC:               } &     990.7   \\\\\n",
       "\\textbf{Df Model:}                   &           1      & \\textbf{                     } &             \\\\\n",
       "\\textbf{Covariance Type:}            &    nonrobust     & \\textbf{                     } &             \\\\\n",
       "\\bottomrule\n",
       "\\end{tabular}\n",
       "\\begin{tabular}{lcccccc}\n",
       "                                     & \\textbf{coef} & \\textbf{std err} & \\textbf{t} & \\textbf{P$> |$t$|$} & \\textbf{[0.025} & \\textbf{0.975]}  \\\\\n",
       "\\midrule\n",
       "\\textbf{Intercept}                   &      18.9470  &        2.547     &     7.438  &         0.000        &       13.919    &       23.975     \\\\\n",
       "\\textbf{I(np.log(GDP\\_Per\\_Capita))} &       5.5890  &        0.269     &    20.798  &         0.000        &        5.059    &        6.119     \\\\\n",
       "\\bottomrule\n",
       "\\end{tabular}\n",
       "\\begin{tabular}{lclc}\n",
       "\\textbf{Omnibus:}       & 16.862 & \\textbf{  Durbin-Watson:     } &    1.974  \\\\\n",
       "\\textbf{Prob(Omnibus):} &  0.000 & \\textbf{  Jarque-Bera (JB):  } &   18.922  \\\\\n",
       "\\textbf{Skew:}          & -0.725 & \\textbf{  Prob(JB):          } & 7.78e-05  \\\\\n",
       "\\textbf{Kurtosis:}      &  3.725 & \\textbf{  Cond. No.          } &     77.6  \\\\\n",
       "\\bottomrule\n",
       "\\end{tabular}\n",
       "%\\caption{OLS Regression Results}\n",
       "\\end{center}\n",
       "\n",
       "Notes: \\newline\n",
       " [1] Standard Errors assume that the covariance matrix of the errors is correctly specified."
      ],
      "text/plain": [
       "<class 'statsmodels.iolib.summary.Summary'>\n",
       "\"\"\"\n",
       "                            OLS Regression Results                            \n",
       "==============================================================================\n",
       "Dep. Variable:        Life_Expectancy   R-squared:                       0.717\n",
       "Model:                            OLS   Adj. R-squared:                  0.715\n",
       "Method:                 Least Squares   F-statistic:                     432.6\n",
       "Date:                Sat, 25 Oct 2025   Prob (F-statistic):           1.06e-48\n",
       "Time:                        12:36:46   Log-Likelihood:                -490.22\n",
       "No. Observations:                 173   AIC:                             984.4\n",
       "Df Residuals:                     171   BIC:                             990.7\n",
       "Df Model:                           1                                         \n",
       "Covariance Type:            nonrobust                                         \n",
       "=============================================================================================\n",
       "                                coef    std err          t      P>|t|      [0.025      0.975]\n",
       "---------------------------------------------------------------------------------------------\n",
       "Intercept                    18.9470      2.547      7.438      0.000      13.919      23.975\n",
       "I(np.log(GDP_Per_Capita))     5.5890      0.269     20.798      0.000       5.059       6.119\n",
       "==============================================================================\n",
       "Omnibus:                       16.862   Durbin-Watson:                   1.974\n",
       "Prob(Omnibus):                  0.000   Jarque-Bera (JB):               18.922\n",
       "Skew:                          -0.725   Prob(JB):                     7.78e-05\n",
       "Kurtosis:                       3.725   Cond. No.                         77.6\n",
       "==============================================================================\n",
       "\n",
       "Notes:\n",
       "[1] Standard Errors assume that the covariance matrix of the errors is correctly specified.\n",
       "\"\"\""
      ]
     },
     "execution_count": 78,
     "metadata": {},
     "output_type": "execute_result"
    }
   ],
   "source": [
    "lr_le_2021_log.summary()"
   ]
  },
  {
   "cell_type": "markdown",
   "id": "21494024-cf21-4963-9b5e-ca5cdb92ba81",
   "metadata": {},
   "source": [
    "*The p-value for the log(GDP Per Capita) coefficient is 0.000, which is statistically significant.*"
   ]
  },
  {
   "cell_type": "code",
   "execution_count": 79,
   "id": "1d8d1acb-ffc2-44a9-bea2-7e7be76f45d9",
   "metadata": {},
   "outputs": [
    {
     "name": "stdout",
     "output_type": "stream",
     "text": [
      "The estimated mean life expectancy for a country whose GDP per capita is $50k is 40.81 years.\n"
     ]
    }
   ],
   "source": [
    "estimate_50 = model_estimate(lr_le_2021_log,'I(np.log(GDP_Per_Capita))',np.log(50))\n",
    "print(f'The estimated mean life expectancy for a country whose GDP per capita is $50k is {estimate_50:.2f} years.')"
   ]
  },
  {
   "cell_type": "code",
   "execution_count": 81,
   "id": "15d16e78-7657-4bbd-84b4-8b1bdb2e7c33",
   "metadata": {},
   "outputs": [
    {
     "name": "stdout",
     "output_type": "stream",
     "text": [
      "The estimated mean life expectancy for a country whose GDP per capita is $100k is 44.69 years.\n"
     ]
    }
   ],
   "source": [
    "estimate_100 = model_estimate(lr_le_2021_log,'I(np.log(GDP_Per_Capita))',np.log(100))\n",
    "print(f'The estimated mean life expectancy for a country whose GDP per capita is $100k is {estimate_100:.2f} years.')"
   ]
  },
  {
   "cell_type": "code",
   "execution_count": 87,
   "id": "5a86110e-b82d-4ebe-908d-5434b868c08a",
   "metadata": {},
   "outputs": [
    {
     "data": {
      "image/png": "[encoded data removed]",
      "text/plain": [
       "<Figure size 640x480 with 1 Axes>"
      ]
     },
     "metadata": {},
     "output_type": "display_data"
    }
   ],
   "source": [
    "# Plotting actual values compared to the model's estimates for mean life expectancy\n",
    "# Adding a column for GDP_Per_Capita divided by 1000\n",
    "gdp_le_2021['GDP_Per_Capita_Log'] = np.log(gdp_le_2021['GDP_Per_Capita'])\n",
    "\n",
    "# Generating model predictions\n",
    "pred_df = pd.DataFrame(\n",
    "    {\n",
    "        'GDP_Per_Capita': np.linspace(start=gdp_le_2021['GDP_Per_Capita'].min(), stop=gdp_le_2021['GDP_Per_Capita'].max())\n",
    "    }\n",
    ")\n",
    "\n",
    "pred_df['Mean_LE_Estimate'] = lr_le_2021_log.predict(pred_df)\n",
    "pred_df['GDP_Per_Capita_Log'] = np.log(pred_df['GDP_Per_Capita'])\n",
    "\n",
    "\n",
    "# Plotting predictions against actual data\n",
    "fig, ax = plt.subplots()\n",
    "gdp_le_2021.plot(kind=\"scatter\", x=\"GDP_Per_Capita_Log\", y=\"Life_Expectancy\", ax=ax, alpha=0.5)\n",
    "pred_df.plot(kind=\"line\", x=\"GDP_Per_Capita_Log\", y=\"Mean_LE_Estimate\", color=\"black\", ax=ax, label='Estimated Avg Global Life Expectancy');\n",
    "plt.title('Average Global Life Expectancy vs Log GDP Per Capita, 2021')\n",
    "plt.ylabel('Life Expectancy (in years)')\n",
    "plt.xlabel('Log GDP Per Capita (in PPP)')\n",
    "plt.show()"
   ]
  },
  {
   "cell_type": "markdown",
   "id": "d9b09d9d-d832-47f6-9d46-a6bd4b1be941",
   "metadata": {},
   "source": [
    "*Doing a log transformation on the data makes it much more appropriate for a least squares regression model, since the residuals are more evenly distributed around the regression line.*"
   ]
  },
  {
   "cell_type": "markdown",
   "id": "fd6fd320-2987-4501-8a48-722cce7413a6",
   "metadata": {},
   "source": [
    "##### Question 4. "
   ]
  },
  {
   "cell_type": "markdown",
   "id": "06e6ef9a-2f5c-43e9-90e6-4d65f5d2f18e",
   "metadata": {},
   "source": [
    "Finally, return to the full dataset.   \n",
    "a. First, fit a linear regression model for life expectancy based on the log of gdp per capita.   \n",
    "b. Then, add the year variable to your model. How can you interpret the coefficient associated with year? What limitations or weaknesses might this model have?"
   ]
  },
  {
   "cell_type": "code",
   "execution_count": null,
   "id": "05925121-4a63-4788-8c50-8bcf629785e0",
   "metadata": {},
   "outputs": [],
   "source": []
  }
 ],
 "metadata": {
  "kernelspec": {
   "display_name": "Python [conda env:base] *",
   "language": "python",
   "name": "conda-base-py"
  },
  "language_info": {
   "codemirror_mode": {
    "name": "ipython",
    "version": 3
   },
   "file_extension": ".py",
   "mimetype": "text/x-python",
   "name": "python",
   "nbconvert_exporter": "python",
   "pygments_lexer": "ipython3",
   "version": "3.13.5"
  }
 },
 "nbformat": 4,
 "nbformat_minor": 5
}
